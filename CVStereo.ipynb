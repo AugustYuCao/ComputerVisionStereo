{
 "cells": [
  {
   "cell_type": "code",
   "execution_count": null,
   "metadata": {},
   "outputs": [],
   "source": [
    "#Part 1 Camera calibration (intrinsic parameters)\n",
    "import numpy as np\n",
    "import cv2\n",
    "import glob\n",
    "import matplotlib.pyplot as plt\n",
    "\n",
    "#termination criteria\n",
    "# criteria：迭代停止的模式选择，这是一个含有三个元素的元组型数。格式为（type,max_iter,epsilon） \n",
    "#其中，type又有两种选择： \n",
    "#—–cv2.TERM_CRITERIA_EPS :精确度（误差）满足epsilon停止。 \n",
    "#—-cv2.TERM_CRITERIA_MAX_ITER：迭代次数超过max_iter停止。 \n",
    "#—-cv2.TERM_CRITERIA_EPS+cv2.TERM_CRITERIA_MAX_ITER，两者合体，任意一个满足结束。\n",
    "#采用的停止准则是最大循环次数30和最大误差容限0.001\n",
    "criteria = (cv2.TERM_CRITERIA_EPS + cv2.TERM_CRITERIA_MAX_ITER, 30, 0.001)\n",
    "\n",
    "# prepare object points, like (0,0,0), (1,0,0), (2,0,0) ....,(6,5,0)\n",
    "#将世界坐标系建在标定板上\n",
    "objp = np.zeros((6*7,3), np.float32)\n",
    "objp[:,:2] = np.mgrid[0:7,0:6].T.reshape(-1,2)\n",
    "#print(objp)\n",
    "\n",
    "# Arrays to store object points and image points from all the images.\n",
    "objpoints = [] # 3d point in real world space\n",
    "imgpoints = [] # 2d points in image plane\n",
    "\n",
    "#input the calibration grid image here.\n",
    "images = glob.glob('Part1/*.JPG')\n",
    "\n",
    "for fname in images:\n",
    "    img = cv2.imread(fname)\n",
    "    gray = cv2.cvtColor(img, cv2.COLOR_BGR2GRAY)\n",
    "    \n",
    "    # Find the chess board corners\n",
    "    ret, corners = cv2.findChessboardCorners(gray, (7,6), None) #P418\n",
    "    \n",
    "    # If found, add object points, image points (after refining them)\n",
    "    if ret == True:\n",
    "        objpoints.append(objp)\n",
    "\n",
    "        #计算角点的精确位置以达到亚像素精度\n",
    "        corners2 = cv2.cornerSubPix(gray, corners, (11,11), (-1,-1), criteria) #P355\n",
    "        imgpoints.append(corners2)\n",
    "\n",
    "        # Draw and display the corners\n",
    "        img = cv2.drawChessboardCorners(img, (7,6), corners2, ret)\n",
    "        #cv2.imshow('img', img)\n",
    "        #cv2.waitKey(500)\n",
    "        cv2.imwrite(\"part1_2.jpg\", img)\n",
    "\n",
    "#cv2.destroyAllWindows()\n",
    "\n",
    "ret, mtx, dist, rvecs, tvecs = cv2.calibrateCamera(objpoints, imgpoints, gray.shape[::-1],None,None) #P427\n",
    "print(mtx) #The intrinsic matrix K\n",
    "print(dist) #The radial distortion coefficients\n",
    "\n",
    "mean_error = 0\n",
    "for i in range(len(objpoints)):\n",
    "    imgpoints2, _ = cv2.projectPoints(objpoints[i], rvecs[i], tvecs[i], mtx, dist)\n",
    "    #cv2.norm(list1, list2, norm_type, mask)\n",
    "    error = cv2.norm(imgpoints[i],imgpoints2, cv2.NORM_L2)/len(imgpoints2)\n",
    "    mean_error += error\n",
    "\n",
    "print(\"total error: \", mean_error/len(objpoints))"
   ]
  },
  {
   "cell_type": "code",
   "execution_count": null,
   "metadata": {},
   "outputs": [],
   "source": [
    "import numpy as np\n",
    "import cv2\n",
    "import glob\n",
    "import matplotlib.pyplot as plt\n",
    "mtx = np.array([[4.30832585e+03, 0.00000000e+00, 2.67770521e+03],\n",
    " [0.00000000, 4.33262975e+03, 1.80968008e+03],\n",
    " [0.00000000e+00, 0.00000000e+00, 1.00000000e+00]])\n",
    "dist = np.array([[-0.06455709,  0.64635224, -0.00222198, -0.00249137, -0.81607703]])"
   ]
  },
  {
   "cell_type": "code",
   "execution_count": null,
   "metadata": {},
   "outputs": [],
   "source": [
    "#part3 compute the relative camera pose\n",
    "#undistortion\n",
    "from PIL import Image\n",
    "from pylab import *\n",
    "import matplotlib.pyplot as plt\n",
    "from scipy import optimize\n",
    "img1 = cv2.imread('Part2/left.JPG')\n",
    "img2 = cv2.imread('Part2/right.JPG')\n",
    "h,  w = img1.shape[:2]\n",
    "dist = np.array([-0.06455709,  0.64635224, -0.00222198, -0.00249137, -0.81607703])\n",
    "newcameramtx, roi = cv2.getOptimalNewCameraMatrix(mtx, dist, (w, h), 1, (w, h))\n",
    "dst1 = cv2.undistort(img1, mtx, dist, None, newcameramtx)\n",
    "dst2 = cv2.undistort(img2, mtx, dist, None, newcameramtx)\n",
    "\n",
    "plt.imshow(dst1,),plt.show()\n",
    "plt.imshow(dst2,),plt.show()\n",
    "cv2.imwrite('dst1.jpg', dst1)\n",
    "cv2.imwrite('dst2.jpg', dst2)"
   ]
  },
  {
   "cell_type": "code",
   "execution_count": null,
   "metadata": {},
   "outputs": [],
   "source": [
    "def drawlines(img1,img2,lines,pts1,pts2):\n",
    "    ''' img1 - image on which we draw the epilines for the points in img2\n",
    "        lines - corresponding epilines '''\n",
    "    r,c = img1.shape[:2]\n",
    "    img1 = cv2.cvtColor(img1,cv2.COLOR_GRAY2BGR)\n",
    "    img2 = cv2.cvtColor(img2,cv2.COLOR_GRAY2BGR)\n",
    "    for r,pt1,pt2 in zip(lines,pts1,pts2):\n",
    "        color = tuple(np.random.randint(0,255,3).tolist())\n",
    "        x0,y0 = map(int, [0, -r[2]/r[1] ])\n",
    "        x1,y1 = map(int, [c, -(r[2]+r[0]*c)/r[1] ])\n",
    "        img1 = cv2.line(img1, (x0,y0), (x1,y1), color,1)\n",
    "        img1 = cv2.circle(img1,tuple(pt1),5,color,-1)\n",
    "        img2 = cv2.circle(img2,tuple(pt2),5,color,-1)\n",
    "    return img1,img2"
   ]
  },
  {
   "cell_type": "code",
   "execution_count": null,
   "metadata": {},
   "outputs": [],
   "source": [
    "#find the Fundamental Matrix F\n",
    "pts1 = np.float32(pts1)\n",
    "pts2 = np.float32(pts2)\n",
    "F, mask = cv2.findFundamentalMat(pts1,pts2, cv2.FM_LMEDS)\n",
    "print(F)\n",
    "\n",
    "# We select only inlier points\n",
    "pts1 = pts1[mask.ravel()==1]\n",
    "pts2 = pts2[mask.ravel()==1]\n",
    "\n",
    "#find the epilines\n",
    "#Epilines corresponding to the points in first image is drawn on second image\n",
    "# Find epilines corresponding to points in right image (second image) and\n",
    "# drawing its lines on left image\n",
    "lines1 = cv2.computeCorrespondEpilines(pts2.reshape(-1,1,2), 2,F)\n",
    "lines1 = lines1.reshape(-1,3) #未知分为行数3列\n",
    "img5,img6 = drawlines(gray1,gray2,lines1,pts1,pts2)\n",
    "\n",
    "# Find epilines corresponding to points in left image (first image) and\n",
    "# drawing its lines on right image\n",
    "lines2 = cv2.computeCorrespondEpilines(pts1.reshape(-1,1,2), 1,F)\n",
    "lines2 = lines2.reshape(-1,3)\n",
    "img7,img8 = drawlines(gray2,gray1,lines2,pts2,pts1)\n",
    "\n",
    "cv2.imwrite('7.jpg', img7)\n",
    "cv2.imwrite('8.jpg', img8)\n",
    "plt.imshow(img7,),plt.show()\n",
    "plt.imshow(img8,),plt.show()"
   ]
  },
  {
   "cell_type": "code",
   "execution_count": null,
   "metadata": {},
   "outputs": [],
   "source": [
    "#find the Essiential Matrix F\n",
    "E, mask = cv2.findEssentialMat(pts1,pts2,mtx)# 18.0, (0, 0))#\n",
    "#print(mask)\n",
    "print(E)\n",
    "R1, R2, t = cv2.decomposeEssentialMat(E)\n",
    "print(R1)\n",
    "print(R2)\n",
    "print(t)"
   ]
  },
  {
   "cell_type": "code",
   "execution_count": null,
   "metadata": {},
   "outputs": [],
   "source": [
    "P21 = np.dot(mtx, np.hstack((R1, t)))\n",
    "print(P21)\n",
    "P22 = np.dot(mtx, np.hstack((R1, -t)))\n",
    "print(P22)\n",
    "P23 = np.dot(mtx, np.hstack((R2, t)))\n",
    "print(P23)\n",
    "P24 = np.dot(mtx, np.hstack((R2, -t)))\n",
    "print(P24)\n",
    "P0 = np.array([ [1,0,0,0],\n",
    "                [0,1,0,0],\n",
    "                [0,0,1,0] ])\n",
    "print(mtx)"
   ]
  },
  {
   "cell_type": "code",
   "execution_count": null,
   "metadata": {},
   "outputs": [],
   "source": [
    "for pp1,pp2 in zip(pts1,pts2):\n",
    "    print(pp1)\n",
    "    cv2.circle(gray1,tuple(pp1),6,(255,0,0),6)\n",
    "    cv2.circle(gray2,tuple(pp2),6,(255,0,0),6)\n",
    "\n",
    "plt.imshow(dst1,),plt.show()\n",
    "cv2.imwrite('9.jpg', gray1)\n",
    "cv2.imwrite('10.jpg', gray2)"
   ]
  },
  {
   "cell_type": "code",
   "execution_count": null,
   "metadata": {},
   "outputs": [],
   "source": [
    "d1 = cv2.triangulatePoints(P0,P21,pts1.T, pts2.T)\n",
    "d1 = d1/d1[3,:]\n",
    "print(d1)"
   ]
  },
  {
   "cell_type": "code",
   "execution_count": null,
   "metadata": {},
   "outputs": [],
   "source": [
    "d2 = cv2.triangulatePoints(P0,P22,pts1.T, pts2.T)\n",
    "d2 = d2/d2[3,:]\n",
    "print(d2)"
   ]
  },
  {
   "cell_type": "code",
   "execution_count": null,
   "metadata": {},
   "outputs": [],
   "source": [
    "d3 = cv2.triangulatePoints(P0,P23,pts1.T, pts2.T)\n",
    "d3 = d3/d3[3,:]\n",
    "print(d3)"
   ]
  },
  {
   "cell_type": "code",
   "execution_count": null,
   "metadata": {},
   "outputs": [],
   "source": [
    "d4 = cv2.triangulatePoints(P0,P24,pts1.T, pts2.T)\n",
    "d4 = d4/d4[3,:]\n",
    "print(d4)"
   ]
  },
  {
   "cell_type": "code",
   "execution_count": null,
   "metadata": {},
   "outputs": [],
   "source": [
    "d = np.dot(P22, d2)\n",
    "#d = np.dot(mtx, d3[:3])#4[:3])\n",
    "d = d/d[2,:]\n",
    "d = d[:2]\n",
    "print(d)"
   ]
  },
  {
   "cell_type": "code",
   "execution_count": null,
   "metadata": {},
   "outputs": [],
   "source": [
    "#check if all points matched will\n",
    "print(d.T)\n",
    "print(pts2)"
   ]
  },
  {
   "cell_type": "code",
   "execution_count": null,
   "metadata": {},
   "outputs": [],
   "source": [
    "#plot the reprojection picture\n",
    "df = np.float32(d)\n",
    "for pp1,pp2 in zip(pts2,df.T):\n",
    "    #print(pp1)\n",
    "    cv2.circle(dst2,tuple(pp1),10,(255,0,0),10)\n",
    "    cv2.circle(dst2,tuple(pp2),6,(0,255,0),6)\n",
    "plt.imshow(dst2,),plt.show()\n",
    "cv2.imwrite('reprojection.jpg', dst2)"
   ]
  },
  {
   "cell_type": "code",
   "execution_count": null,
   "metadata": {},
   "outputs": [],
   "source": [
    "#part 4\n",
    "#set of distance\n",
    "distance = []\n",
    "for i in range(20):\n",
    "    distance.append(5 + i * 37)\n",
    "print(distance)"
   ]
  },
  {
   "cell_type": "code",
   "execution_count": null,
   "metadata": {},
   "outputs": [],
   "source": [
    "#find the matrix H and get the 20 warped images\n",
    "dst1 = cv2.undistort(img1, mtx, dist, None, newcameramtx)\n",
    "dst2 = cv2.undistort(img2, mtx, dist, None, newcameramtx)\n",
    "for test in distance:\n",
    "    pOne = np.array([ [1,0,0,0],\n",
    "                    [0,1,0,0],\n",
    "                    [0,0,1,0],\n",
    "                    [0,0,-1,test]])\n",
    "    pOne = np.float32(pOne)\n",
    "    print(pOne)\n",
    "    pTwo = np.array([[ 4.26460842e+03, -9.12316630e+02, -2.59086283e+03,4.26322755e+03],\n",
    "           [-9.07859026e+02, -4.20372467e+03, -1.88443983e+03,-5.15490408e+02],\n",
    "           [ 2.32720351e-02,  1.26012045e-02, -9.99649750e-01,-5.85200604e-03],\n",
    "           [0,0,-1,test]])\n",
    "    print(pTwo)\n",
    "    pOneInv = np.linalg.inv(pOne)\n",
    "    print(pOneInv)\n",
    "    H = pTwo * pOneInv\n",
    "    #H = H[:3, :3]\n",
    "    #print(H)\n",
    "    H = R2.T - (t) * (np.array([0, 0, -1]).T) / test\n",
    "    print(H)\n",
    "    mat = mtx * H * np.linalg.inv(mtx)\n",
    "\n",
    "    print(mat)\n",
    "    h,  w = img1.shape[:2]\n",
    "    warped = cv2.warpPerspective(dst2,mat,(w,h))\n",
    "    #test = np.dot(mat, [783.37919437, 2518.51272543])\n",
    "    plt.imshow(dst2),plt.show()\n",
    "    plt.imshow(warped,),plt.show()\n",
    "    cv2.imwrite('warped1/warped' + str(test) + '.jpg', warped)"
   ]
  },
  {
   "cell_type": "code",
   "execution_count": null,
   "metadata": {},
   "outputs": [],
   "source": [
    "dst1 = cv2.undistort(img1, mtx, dist, None, newcameramtx)\n",
    "dst1G=cv2.cvtColor(dst1, cv2.COLOR_BGR2GRAY)\n",
    "warped5 = np.float32(cv2.imread('warped1/warped5.jpg'))\n",
    "warped5G=cv2.cvtColor(warped5, cv2.COLOR_BGR2GRAY)\n",
    "warped42 = np.float32(cv2.imread('warped1/warped42.jpg'))\n",
    "warped42G=cv2.cvtColor(warped42, cv2.COLOR_BGR2GRAY)\n",
    "warped79 = np.float32(cv2.imread('warped1/warped79.jpg'))\n",
    "warped79G=cv2.cvtColor(warped79, cv2.COLOR_BGR2GRAY)\n",
    "warped116 = np.float32(cv2.imread('warped1/warped116.jpg'))\n",
    "warped116G=cv2.cvtColor(warped116, cv2.COLOR_BGR2GRAY)\n",
    "warped153 = np.float32(cv2.imread('warped1/warped153.jpg'))\n",
    "warped153G=cv2.cvtColor(warped153, cv2.COLOR_BGR2GRAY)\n",
    "warped190 = np.float32(cv2.imread('warped1/warped190.jpg'))\n",
    "warped190G=cv2.cvtColor(warped190, cv2.COLOR_BGR2GRAY)\n",
    "warped227 = np.float32(cv2.imread('warped1/warped227.jpg'))\n",
    "warped227G=cv2.cvtColor(warped227, cv2.COLOR_BGR2GRAY)\n",
    "warped264 = np.float32(cv2.imread('warped1/warped264.jpg'))\n",
    "warped264G=cv2.cvtColor(warped264, cv2.COLOR_BGR2GRAY)\n",
    "warped301 = np.float32(cv2.imread('warped1/warped301.jpg'))\n",
    "warped301G=cv2.cvtColor(warped301, cv2.COLOR_BGR2GRAY)\n",
    "warped338 = np.float32(cv2.imread('warped1/warped338.jpg'))\n",
    "warped338G=cv2.cvtColor(warped338, cv2.COLOR_BGR2GRAY)\n",
    "warped375 = np.float32(cv2.imread('warped1/warped375.jpg'))\n",
    "warped375G=cv2.cvtColor(warped375, cv2.COLOR_BGR2GRAY)\n",
    "warped412 = np.float32(cv2.imread('warped1/warped412.jpg'))\n",
    "warped412G=cv2.cvtColor(warped412, cv2.COLOR_BGR2GRAY)\n",
    "warped449 = np.float32(cv2.imread('warped1/warped449.jpg'))\n",
    "warped449G=cv2.cvtColor(warped449, cv2.COLOR_BGR2GRAY)\n",
    "warped486 = np.float32(cv2.imread('warped1/warped486.jpg'))\n",
    "warped486G=cv2.cvtColor(warped486, cv2.COLOR_BGR2GRAY)\n",
    "warped523 = np.float32(cv2.imread('warped1/warped523.jpg'))\n",
    "warped523G=cv2.cvtColor(warped523, cv2.COLOR_BGR2GRAY)\n",
    "warped560 = np.float32(cv2.imread('warped1/warped560.jpg'))\n",
    "warped560G=cv2.cvtColor(warped560, cv2.COLOR_BGR2GRAY)\n",
    "warped597 = np.float32(cv2.imread('warped1/warped597.jpg'))\n",
    "warped597G=cv2.cvtColor(warped597, cv2.COLOR_BGR2GRAY)\n",
    "warped634 = np.float32(cv2.imread('warped1/warped634.jpg'))\n",
    "warped634G=cv2.cvtColor(warped634, cv2.COLOR_BGR2GRAY)\n",
    "warped671 = np.float32(cv2.imread('warped1/warped671.jpg'))\n",
    "warped671G=cv2.cvtColor(warped671, cv2.COLOR_BGR2GRAY)\n",
    "warped708 = np.float32(cv2.imread('warped1/warped708.jpg'))\n",
    "warped708G=cv2.cvtColor(warped708, cv2.COLOR_BGR2GRAY)\n",
    "print(warped5G[1000, 2000])"
   ]
  },
  {
   "cell_type": "code",
   "execution_count": null,
   "metadata": {},
   "outputs": [],
   "source": [
    "D = []"
   ]
  },
  {
   "cell_type": "code",
   "execution_count": null,
   "metadata": {},
   "outputs": [],
   "source": [
    "D1 = [[0] * (w) for _ in range(h)]\n",
    "for i in range(h):\n",
    "    for j in range(w):\n",
    "        D1[i][j] = abs(warped5G[i][j] - dst1G[i][j])\n",
    "D.append(D1)\n",
    "print(D1[1000][500])"
   ]
  },
  {
   "cell_type": "code",
   "execution_count": null,
   "metadata": {},
   "outputs": [],
   "source": [
    "D2 = [[0] * (w) for _ in range(h)]\n",
    "for i in range(h):\n",
    "    for j in range(w):\n",
    "        D2[i][j] = abs(warped42G[i][j] - dst1G[i][j])\n",
    "print(D2[1000][500])"
   ]
  },
  {
   "cell_type": "code",
   "execution_count": null,
   "metadata": {},
   "outputs": [],
   "source": [
    "D3 = [[0] * (w) for _ in range(h)]\n",
    "for i in range(h):\n",
    "    for j in range(w):\n",
    "        D3[i][j] = abs(warped79G[i][j] - dst1G[i][j])\n",
    "print(D3[1000][500])"
   ]
  },
  {
   "cell_type": "code",
   "execution_count": null,
   "metadata": {},
   "outputs": [],
   "source": [
    "D4 = [[0] * (w) for _ in range(h)]\n",
    "for i in range(h):\n",
    "    for j in range(w):\n",
    "        D4[i][j] = abs(warped116G[i][j] - dst1G[i][j])\n",
    "print(D4[1000][500])"
   ]
  },
  {
   "cell_type": "code",
   "execution_count": null,
   "metadata": {},
   "outputs": [],
   "source": [
    "D5 = [[0] * (w) for _ in range(h)]\n",
    "for i in range(h):\n",
    "    for j in range(w):\n",
    "        D5[i][j] = abs(warped153G[i][j] - dst1G[i][j])\n",
    "print(D5[1000][500])"
   ]
  },
  {
   "cell_type": "code",
   "execution_count": null,
   "metadata": {},
   "outputs": [],
   "source": [
    "D6 = [[0] * (w) for _ in range(h)]\n",
    "for i in range(h):\n",
    "    for j in range(w):\n",
    "        D6[i][j] = abs(warped190G[i][j] - dst1G[i][j])\n",
    "print(D6[1000][500])"
   ]
  },
  {
   "cell_type": "code",
   "execution_count": null,
   "metadata": {},
   "outputs": [],
   "source": [
    "D7 = [[0] * (w) for _ in range(h)]\n",
    "for i in range(h):\n",
    "    for j in range(w):\n",
    "        D7[i][j] = abs(warped227G[i][j] - dst1G[i][j])\n",
    "print(D7[1000][500])"
   ]
  },
  {
   "cell_type": "code",
   "execution_count": null,
   "metadata": {},
   "outputs": [],
   "source": [
    "D8 = [[0] * (w) for _ in range(h)]\n",
    "for i in range(h):\n",
    "    for j in range(w):\n",
    "        D8[i][j] = abs(warped264G[i][j] - dst1G[i][j])\n",
    "print(D8[1000][500])"
   ]
  },
  {
   "cell_type": "code",
   "execution_count": null,
   "metadata": {},
   "outputs": [],
   "source": [
    "D9 = [[0] * (w) for _ in range(h)]\n",
    "for i in range(h):\n",
    "    for j in range(w):\n",
    "        D9[i][j] = abs(warped301G[i][j] - dst1G[i][j])\n",
    "print(D9[1000][500])"
   ]
  },
  {
   "cell_type": "code",
   "execution_count": null,
   "metadata": {},
   "outputs": [],
   "source": [
    "D10 = [[0] * (w) for _ in range(h)]\n",
    "for i in range(h):\n",
    "    for j in range(w):\n",
    "        D10[i][j] = abs(warped338G[i][j] - dst1G[i][j])\n",
    "print(D10[1000][500])"
   ]
  },
  {
   "cell_type": "code",
   "execution_count": null,
   "metadata": {},
   "outputs": [],
   "source": [
    "D11 = [[0] * (w) for _ in range(h)]\n",
    "for i in range(h):\n",
    "    for j in range(w):\n",
    "        D11[i][j] = abs(warped375G[i][j] - dst1G[i][j])\n",
    "print(D11[1000][500])"
   ]
  },
  {
   "cell_type": "code",
   "execution_count": null,
   "metadata": {},
   "outputs": [],
   "source": [
    "D12 = [[0] * (w) for _ in range(h)]\n",
    "for i in range(h):\n",
    "    for j in range(w):\n",
    "        D12[i][j] = abs(warped412G[i][j] - dst1G[i][j])\n",
    "print(D12[1000][500])"
   ]
  },
  {
   "cell_type": "code",
   "execution_count": null,
   "metadata": {},
   "outputs": [],
   "source": [
    "D13 = [[0] * (w) for _ in range(h)]\n",
    "for i in range(h):\n",
    "    for j in range(w):\n",
    "        D13[i][j] = abs(warped449G[i][j] - dst1G[i][j])\n",
    "print(D8[1000][500])"
   ]
  },
  {
   "cell_type": "code",
   "execution_count": null,
   "metadata": {},
   "outputs": [],
   "source": [
    "D14 = [[0] * (w) for _ in range(h)]\n",
    "for i in range(h):\n",
    "    for j in range(w):\n",
    "        D14[i][j] = abs(warped486G[i][j] - dst1G[i][j])\n",
    "print(D14[1000][500])"
   ]
  },
  {
   "cell_type": "code",
   "execution_count": null,
   "metadata": {},
   "outputs": [],
   "source": [
    "D15 = [[0] * (w) for _ in range(h)]\n",
    "for i in range(h):\n",
    "    for j in range(w):\n",
    "        D15[i][j] = abs(warped523G[i][j] - dst1G[i][j])\n",
    "print(D15[1000][500])"
   ]
  },
  {
   "cell_type": "code",
   "execution_count": null,
   "metadata": {},
   "outputs": [],
   "source": [
    "D16 = [[0] * (w) for _ in range(h)]\n",
    "for i in range(h):\n",
    "    for j in range(w):\n",
    "        D16[i][j] = abs(warped560G[i][j] - dst1G[i][j])\n",
    "print(D16[1000][500])"
   ]
  },
  {
   "cell_type": "code",
   "execution_count": null,
   "metadata": {},
   "outputs": [],
   "source": [
    "D17 = [[0] * (w) for _ in range(h)]\n",
    "for i in range(h):\n",
    "    for j in range(w):\n",
    "        D17[i][j] = abs(warped597G[i][j] - dst1G[i][j])\n",
    "print(D17[1000][500])"
   ]
  },
  {
   "cell_type": "code",
   "execution_count": null,
   "metadata": {},
   "outputs": [],
   "source": [
    "D18 = [[0] * (w) for _ in range(h)]\n",
    "for i in range(h):\n",
    "    for j in range(w):\n",
    "        D18[i][j] = abs(warped634G[i][j] - dst1G[i][j])\n",
    "print(D18[1000][500])"
   ]
  },
  {
   "cell_type": "code",
   "execution_count": null,
   "metadata": {},
   "outputs": [],
   "source": [
    "D19 = [[0] * (w) for _ in range(h)]\n",
    "for i in range(h):\n",
    "    for j in range(w):\n",
    "        D19[i][j] = abs(warped671G[i][j] - dst1G[i][j])\n",
    "print(D19[1000][500])"
   ]
  },
  {
   "cell_type": "code",
   "execution_count": null,
   "metadata": {},
   "outputs": [],
   "source": [
    "D20 = [[0] * (w) for _ in range(h)]\n",
    "for i in range(h):\n",
    "    for j in range(w):\n",
    "        D20[i][j] = abs(warped708G[i][j] - dst1G[i][j])\n",
    "print(D20[1000][500])"
   ]
  },
  {
   "cell_type": "code",
   "execution_count": null,
   "metadata": {},
   "outputs": [],
   "source": [
    "D = []\n",
    "D.append(D1)\n",
    "D.append(D2)\n",
    "D.append(D3)\n",
    "D.append(D4)\n",
    "D.append(D5)\n",
    "D.append(D6)\n",
    "D.append(D7)\n",
    "D.append(D8)\n",
    "D.append(D9)\n",
    "D.append(D10)\n",
    "D.append(D11)\n",
    "D.append(D12)\n",
    "D.append(D13)\n",
    "D.append(D14)\n",
    "D.append(D15)\n",
    "D.append(D16)\n",
    "D.append(D17)\n",
    "D.append(D18)\n",
    "D.append(D19)\n",
    "D.append(D20)"
   ]
  },
  {
   "cell_type": "code",
   "execution_count": null,
   "metadata": {},
   "outputs": [],
   "source": [
    "DC = np.array(D)"
   ]
  },
  {
   "cell_type": "code",
   "execution_count": null,
   "metadata": {},
   "outputs": [],
   "source": [
    "for i in range(20):\n",
    "    DC[i] = cv2.boxFilter(DC[i], -1, (20, 20))"
   ]
  },
  {
   "cell_type": "code",
   "execution_count": null,
   "metadata": {},
   "outputs": [],
   "source": [
    "#find the depth assigned pixel and plot the depth image\n",
    "res = [[0] * w for _ in range(h)]\n",
    "for i in range(len(DC[0])):\n",
    "    for j in range(len(DC[0][0])):\n",
    "        minI = float('inf')\n",
    "        minD = 0\n",
    "        for n in range(20):\n",
    "            if DC[n][i][j] < minI:\n",
    "                minI = DC[n][i][j]\n",
    "                minD = n\n",
    "                res[i][j] = (20 - n) * 255 // 20\n",
    "plt.imshow(res),plt.show()"
   ]
  }
 ],
 "metadata": {
  "kernelspec": {
   "display_name": "Python 3",
   "language": "python",
   "name": "python3"
  },
  "language_info": {
   "codemirror_mode": {
    "name": "ipython",
    "version": 3
   },
   "file_extension": ".py",
   "mimetype": "text/x-python",
   "name": "python",
   "nbconvert_exporter": "python",
   "pygments_lexer": "ipython3",
   "version": "3.7.0"
  }
 },
 "nbformat": 4,
 "nbformat_minor": 2
}
